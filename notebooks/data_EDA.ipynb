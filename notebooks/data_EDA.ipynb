{
 "cells": [
  {
   "cell_type": "code",
   "execution_count": null,
   "id": "dff5a7c6",
   "metadata": {},
   "outputs": [],
   "source": [
    "import pandas as pd\n",
    "import numpy as np\n",
    "import os\n",
    "import random"
   ]
  },
  {
   "cell_type": "code",
   "execution_count": null,
   "id": "ad9518aa",
   "metadata": {},
   "outputs": [],
   "source": [
    "\n",
    "comb_df = pd.read_csv('../data/raw/SpamAssasin.csv')\n",
    "comb_df = comb_df.drop(columns=['receiver'])\n",
    "print(len(comb_df))\n",
    "comb_df.head()"
   ]
  },
  {
   "cell_type": "code",
   "execution_count": null,
   "id": "c6544537",
   "metadata": {},
   "outputs": [],
   "source": [
    "bodies = comb_df.body\n",
    "for i in random.sample(bodies.to_list(), 10):\n",
    "    print('<><><><><><><><><><><><><><><><><><><><><>>>>')\n",
    "    print(i)"
   ]
  },
  {
   "cell_type": "code",
   "execution_count": null,
   "id": "054c72ec",
   "metadata": {},
   "outputs": [],
   "source": [
    "#check if all csvs have similar schema\n",
    "dfs = []\n",
    "for file in os.listdir('../data/raw'):\n",
    "    print(file)\n",
    "    if file.endswith('.csv'):\n",
    "        comb_df = pd.read_csv(f'../data/raw/{file}')\n",
    "        dfs.append(comb_df)\n",
    "        print(f'{file} has {len(comb_df)} rows')\n",
    "        print(comb_df.columns)\n",
    "        print('---')"
   ]
  },
  {
   "cell_type": "code",
   "execution_count": null,
   "id": "6a4eb06a",
   "metadata": {},
   "outputs": [],
   "source": []
  },
  {
   "cell_type": "markdown",
   "id": "b57e27e5",
   "metadata": {},
   "source": [
    "## Checking interim studies"
   ]
  },
  {
   "cell_type": "code",
   "execution_count": null,
   "id": "f440adea",
   "metadata": {},
   "outputs": [],
   "source": [
    "interim_df = pd.read_csv('../data/interim/processed_CEAS_08.csv')\n",
    "# interim_df[['body','embedding']].head()\n"
   ]
  },
  {
   "cell_type": "code",
   "execution_count": null,
   "id": "600e3ed9",
   "metadata": {},
   "outputs": [],
   "source": [
    "import re\n",
    "pattern = r'(\\d{2} \\w{3} \\d{4} \\d{2}:\\d{2}:\\d{2})'\n",
    "\n",
    "def get_middle(date_str):\n",
    "    match = re.search(pattern, date_str)\n",
    "    if match:\n",
    "        return match.group(0)\n",
    "    return ''\n",
    "\n",
    "interim_df['date'] = interim_df['date'].apply(get_middle)\n",
    "interim_df.sample(5)['date'].to_list()"
   ]
  },
  {
   "cell_type": "code",
   "execution_count": null,
   "id": "52c2ac0f",
   "metadata": {},
   "outputs": [],
   "source": [
    "np.unique([len(i) for i in interim_df['date']], return_counts=True)"
   ]
  },
  {
   "cell_type": "code",
   "execution_count": null,
   "id": "ee33c10c",
   "metadata": {},
   "outputs": [],
   "source": [
    "import matplotlib.pyplot as plt\n",
    "interim_df['date'] = (\n",
    "    pd.to_datetime(\n",
    "        interim_df['date'],\n",
    "        format='mixed', #'%b %Y %H:%M:%S',   # Tue, 05 Aug 2008 16:31:02 -0700\n",
    "        utc=True                             # gives one uniform timezone\n",
    "    )\n",
    ")\n",
    "# interim_df['date'] = pd.to_datetime(interim_df['date'], errors='coerce')\n",
    "print(min(interim_df['date']),max(interim_df['date']))\n",
    "# plt.hist(interim_df['date'])\n",
    "print(np.unique(interim_df['date'].values, return_counts=True))\n",
    "print(len(interim_df))"
   ]
  },
  {
   "cell_type": "code",
   "execution_count": null,
   "id": "dd34f38e",
   "metadata": {},
   "outputs": [],
   "source": [
    "import pickle\n",
    "def load_data(combined_df_path: str):\n",
    "# def combine_datasets(List[pd.DataFrame]):\n",
    "    with open(combined_df_path, 'rb') as f:\n",
    "        df = pickle.load(f)\n",
    "    return df       \n"
   ]
  },
  {
   "cell_type": "code",
   "execution_count": null,
   "id": "229e171d",
   "metadata": {},
   "outputs": [],
   "source": [
    "comb_df = load_data('../data/processed/combined_spam_ham_dataset.pkl')\n",
    "comb_df.head()\n",
    "# np.unique(comb_df['label'].values, return_counts=True)"
   ]
  },
  {
   "cell_type": "code",
   "execution_count": null,
   "id": "fab52839",
   "metadata": {},
   "outputs": [],
   "source": [
    "#directly load\n",
    "embed = np.vstack(comb_df.iloc[3,:]['embedding'])\n",
    "print(np.shape(embed))\n",
    "\n",
    "#load like in model fit\n",
    "embed_fit = np.vstack(comb_df['embedding'].values)\n",
    "print(np.shape(embed_fit))"
   ]
  },
  {
   "cell_type": "code",
   "execution_count": null,
   "id": "e4c78276",
   "metadata": {},
   "outputs": [],
   "source": [
    "embed = comb_df.iloc[3,:]['embedding'].reshape(1, -1)\n",
    "print(np.shape(embed))"
   ]
  },
  {
   "cell_type": "code",
   "execution_count": null,
   "id": "44dcbce1",
   "metadata": {},
   "outputs": [],
   "source": []
  }
 ],
 "metadata": {
  "kernelspec": {
   "display_name": "MLOps-spam-classifier",
   "language": "python",
   "name": "python3"
  },
  "language_info": {
   "codemirror_mode": {
    "name": "ipython",
    "version": 3
   },
   "file_extension": ".py",
   "mimetype": "text/x-python",
   "name": "python",
   "nbconvert_exporter": "python",
   "pygments_lexer": "ipython3",
   "version": "3.8.18"
  }
 },
 "nbformat": 4,
 "nbformat_minor": 5
}
